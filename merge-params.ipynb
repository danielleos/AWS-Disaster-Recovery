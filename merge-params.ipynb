{
 "cells": [
  {
   "cell_type": "code",
   "execution_count": 10,
   "metadata": {},
   "outputs": [],
   "source": [
    "import yaml\n",
    "from itertools import izip\n",
    "\n",
    "# Load original environment file\n",
    "with open('C:/Users/danielle.osullivan/OneDrive - Accenture/Vodafone/main_prod.yml') as stream:\n",
    "    main_prod = yaml.safe_load(stream)\n",
    "\n",
    "# Load new ImageIds file\n",
    "with open('C:/Users/danielle.osullivan/OneDrive - Accenture/Vodafone/new_params.yml') as stream2:\n",
    "    new_params = yaml.safe_load(stream2)"
   ]
  },
  {
   "cell_type": "code",
   "execution_count": 11,
   "metadata": {
    "collapsed": true
   },
   "outputs": [],
   "source": [
    "# Function for finding the 'ImageId' in nested dictionary\n",
    "def findImageId(d):\n",
    "    # Create empty list\n",
    "    temp = []\n",
    "    # For every role\n",
    "    for i in d['RoleParams']:\n",
    "        # Find the 'ImageId' property\n",
    "        if 'ImageId' in d['RoleParams'][i]:\n",
    "            # Output both the role name and the value of the 'ImageId' associated with it\n",
    "            temp.append(i)\n",
    "            temp.append(d['RoleParams'][i]['ImageId'])\n",
    "    return temp"
   ]
  },
  {
   "cell_type": "code",
   "execution_count": 12,
   "metadata": {},
   "outputs": [],
   "source": [
    "# Lists all roles and associated AMI IDs\n",
    "originalIds = findImageId(main_prod)"
   ]
  },
  {
   "cell_type": "code",
   "execution_count": 13,
   "metadata": {},
   "outputs": [],
   "source": [
    "# Lists all roles that need updating (which should be all entries)\n",
    "newIds = findImageId(new_params)"
   ]
  },
  {
   "cell_type": "code",
   "execution_count": 14,
   "metadata": {
    "collapsed": true
   },
   "outputs": [],
   "source": [
    "# Convert lists to dictionaries\n",
    "i = iter(newIds)\n",
    "newIds = dict(izip(i,i))\n",
    "\n",
    "j = iter(originalIds)\n",
    "# Change name to 'mergedIds' for comprehension\n",
    "mergedIds = dict(izip(j,j))"
   ]
  },
  {
   "cell_type": "code",
   "execution_count": 15,
   "metadata": {
    "collapsed": true
   },
   "outputs": [],
   "source": [
    "# Change the AMI IDs for those that need updating\n",
    "# For every key in the mergedIds dictionary\n",
    "for i in mergedIds:\n",
    "    # For every key in the newIds dictionary\n",
    "    for j in newIds:\n",
    "        # If these keys match up\n",
    "        if i == j:\n",
    "            # Then update the ID\n",
    "            mergedIds[i] = newIds[j]"
   ]
  },
  {
   "cell_type": "code",
   "execution_count": 16,
   "metadata": {},
   "outputs": [],
   "source": [
    "# Update new ImageIds and write to updated file\n",
    "import ruamel.yaml as ryaml\n",
    "from ruamel.yaml.util import load_yaml_guess_indent as lygi\n",
    "\n",
    "# Set data and indentation parameters for orignal YAML file\n",
    "config, ind, bsi = lygi(open('C:/Users/danielle.osullivan/OneDrive - Accenture/Vodafone/main_prod.yml'))\n",
    "\n",
    "# Variable name for data inside the 'RoleParams' key (i.e. ignoring 'BaseParams')\n",
    "RoleParams = config['RoleParams']"
   ]
  },
  {
   "cell_type": "code",
   "execution_count": 17,
   "metadata": {},
   "outputs": [],
   "source": [
    "# Function to update AMI IDs\n",
    "# Function parameter is a dictionary with the updated AMI IDs\n",
    "def updateImageId(mergedIds):\n",
    "    # For every role\n",
    "    for i in RoleParams:\n",
    "        # Find the roles that need updating\n",
    "        for key in mergedIds:\n",
    "            if key == i:\n",
    "                # Update the ImageId\n",
    "                RoleParams[i]['ImageId'] = mergedIds[key]\n",
    "# Run function\n",
    "updateImageId(mergedIds)"
   ]
  },
  {
   "cell_type": "code",
   "execution_count": 18,
   "metadata": {},
   "outputs": [],
   "source": [
    "# Write to new YAML file\n",
    "ryaml.round_trip_dump(config, open('output.yml', 'w'), indent=ind, block_seq_indent=bsi)"
   ]
  }
 ],
 "metadata": {
  "kernelspec": {
   "display_name": "Python 2",
   "language": "python",
   "name": "python2"
  },
  "language_info": {
   "codemirror_mode": {
    "name": "ipython",
    "version": 2
   },
   "file_extension": ".py",
   "mimetype": "text/x-python",
   "name": "python",
   "nbconvert_exporter": "python",
   "pygments_lexer": "ipython2",
   "version": "2.7.14"
  }
 },
 "nbformat": 4,
 "nbformat_minor": 2
}
